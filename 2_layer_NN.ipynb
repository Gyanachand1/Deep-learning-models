{
 "cells": [
  {
   "cell_type": "code",
   "execution_count": null,
   "metadata": {},
   "outputs": [
    {
     "name": "stderr",
     "output_type": "stream",
     "text": [
      "Using TensorFlow backend.\n"
     ]
    },
    {
     "name": "stdout",
     "output_type": "stream",
     "text": [
      "(50000, 28, 28) (50000,)\n"
     ]
    },
    {
     "data": {
      "image/png": "[encoded data removed]",
      "text/plain": [
       "<matplotlib.figure.Figure at 0x7fa9937f9a58>"
      ]
     },
     "metadata": {},
     "output_type": "display_data"
    }
   ],
   "source": [
    "from preprocessed_mnist import load_dataset\n",
    "X_train, y_train, X_val, y_val, X_test, y_test = load_dataset()\n",
    "print(X_train.shape, y_train.shape)\n",
    "import matplotlib.pyplot as plt\n",
    "%matplotlib inline\n",
    "plt.imshow(X_train[0], cmap=\"Greys\");"
   ]
  },
  {
   "cell_type": "code",
   "execution_count": 2,
   "metadata": {
    "collapsed": true
   },
   "outputs": [],
   "source": [
    "import tensorflow as tf\n",
    "import numpy as np\n",
    "s = tf.InteractiveSession()"
   ]
  },
  {
   "cell_type": "code",
   "execution_count": 3,
   "metadata": {},
   "outputs": [
    {
     "data": {
      "text/plain": [
       "(50000, 784)"
      ]
     },
     "execution_count": 3,
     "metadata": {},
     "output_type": "execute_result"
    }
   ],
   "source": [
    "# Flattening training, validate and test sets\n",
    "X_train_flatten = X_train.reshape(X_train.shape[0], -1)\n",
    "X_val_flatten = X_val.reshape(X_val.shape[0], -1)\n",
    "X_test_flatten = X_test.reshape(X_test.shape[0], -1)\n",
    "X_train_flatten.shape"
   ]
  },
  {
   "cell_type": "code",
   "execution_count": 4,
   "metadata": {},
   "outputs": [],
   "source": [
    "#input placeholders for features and classes\n",
    "x = tf.placeholder(tf.float32, shape=(None,784))\n",
    "y = tf.placeholder(tf.float32,shape=(None, 10))\n",
    "\n",
    "#Initialization of weights and bias\n",
    "W1 = tf.get_variable(\"W1\", [784,350], initializer = tf.contrib.layers.xavier_initializer(seed = 1))\n",
    "b1 = tf.get_variable(\"b1\", [350], initializer = tf.zeros_initializer())\n",
    "W2 = tf.get_variable(\"W2\", [350, 10], initializer = tf.contrib.layers.xavier_initializer(seed = 1))\n",
    "b2 = tf.get_variable(\"b2\", [10], initializer = tf.zeros_initializer())\n",
    "#Activation layers\n",
    "Z1 = tf.add(tf.matmul(x,W1), b1)                      \n",
    "A1 = tf.nn.relu(Z1)                                    \n",
    "Z2 = tf.add(tf.matmul(A1,W2), b2)\n",
    "A2 = tf.nn.sigmoid(Z2)                                    "
   ]
  },
  {
   "cell_type": "code",
   "execution_count": 5,
   "metadata": {
    "collapsed": true
   },
   "outputs": [],
   "source": [
    "cost = tf.reduce_mean(tf.nn.softmax_cross_entropy_with_logits(labels=y, logits=A2))"
   ]
  },
  {
   "cell_type": "code",
   "execution_count": 6,
   "metadata": {
    "collapsed": true
   },
   "outputs": [],
   "source": [
    "y_train = np.eye(10)[y_train]\n",
    "y_test = np.eye(10)[y_test]"
   ]
  },
  {
   "cell_type": "code",
   "execution_count": 7,
   "metadata": {
    "collapsed": true
   },
   "outputs": [],
   "source": [
    "num_epochs = 200\n",
    "batch_size = 100"
   ]
  },
  {
   "cell_type": "code",
   "execution_count": null,
   "metadata": {
    "collapsed": true
   },
   "outputs": [],
   "source": [
    "learning_rate = 0.001\n",
    "optimizer = tf.train.AdamOptimizer(learning_rate).minimize(cost)\n",
    "init = tf.global_variables_initializer()"
   ]
  },
  {
   "cell_type": "code",
   "execution_count": null,
   "metadata": {},
   "outputs": [
    {
     "name": "stdout",
     "output_type": "stream",
     "text": [
      "Cost after 10 epochs: 1.47591\n",
      "Cost after 20 epochs: 1.46821\n",
      "Cost after 60 epochs: 1.46521\n",
      "Cost after 90 epochs: 1.46448\n",
      "Cost after 100 epochs: 1.46413\n",
      "Cost after 110 epochs: 1.4641\n",
      "Cost after 120 epochs: 1.46471\n",
      "Cost after 130 epochs: 1.46401\n",
      "Cost after 140 epochs: 1.46466\n",
      "Cost after 160 epochs: 1.46436\n",
      "Cost after 170 epochs: 1.46395\n",
      "Cost after 180 epochs: 1.46409\n",
      "Cost after 190 epochs: 1.46452\n",
      "Cost after 200 epochs: 1.46392\n"
     ]
    },
    {
     "data": {
      "image/png": "[encoded data removed]",
      "text/plain": [
       "<matplotlib.figure.Figure at 0x7fa991ef95c0>"
      ]
     },
     "metadata": {},
     "output_type": "display_data"
    },
    {
     "name": "stdout",
     "output_type": "stream",
     "text": [
      "Train Accuracy: 0.9963\n",
      "Test Accuracy: 0.9822\n"
     ]
    }
   ],
   "source": [
    "with tf.Session() as sess:\n",
    "    sess.run(init)\n",
    "    \n",
    "    train_costs = []\n",
    "    test_costs = []\n",
    "    \n",
    "    for epoch in range(num_epochs):\n",
    "        for i in range(0, 50000, batch_size):\n",
    "            sess.run(optimizer, feed_dict={x:X_train_flatten[i:i+batch_size], y:y_train[i: i+batch_size]})\n",
    "        train_costs.append(sess.run(cost, feed_dict={x:X_train_flatten, y:y_train}))\n",
    "        test_costs.append(sess.run(cost, feed_dict={x:X_test_flatten, y:y_test}))\n",
    "        if epoch%10 == 9:\n",
    "            print(\"Cost after \" + str(epoch+1)+ \" epochs: \"+ str(train_costs[-1]))\n",
    "    \n",
    "    iterations = list(range(num_epochs))\n",
    "    plt.plot(iterations, train_costs, label='Train')\n",
    "    plt.plot(iterations, test_costs, label='Test')\n",
    "    plt.ylabel('Cost')\n",
    "    plt.xlabel('Iterations')\n",
    "    plt.show()\n",
    "    \n",
    "    # Predictions\n",
    "    predict_op = tf.argmax(Z2, 1)\n",
    "    correct_prediction = tf.equal(predict_op, tf.argmax(y, 1))\n",
    "\n",
    "    # Accuracy calculation\n",
    "    accuracy = tf.reduce_mean(tf.cast(correct_prediction, \"float\"))\n",
    "\n",
    "    print (\"Train Accuracy:\", accuracy.eval({x: X_train_flatten, y: y_train}))\n",
    "    print (\"Test Accuracy:\", accuracy.eval({x: X_test_flatten, y: y_test}))\n"
   ]
  }
 ],
 "metadata": {
  "kernelspec": {
   "display_name": "Python 3",
   "language": "python",
   "name": "python3"
  },
  "language_info": {
   "codemirror_mode": {
    "name": "ipython",
    "version": 3
   },
   "file_extension": ".py",
   "mimetype": "text/x-python",
   "name": "python",
   "nbconvert_exporter": "python",
   "pygments_lexer": "ipython3",
   "version": "3.6.4"
  }
 },
 "nbformat": 4,
 "nbformat_minor": 2
}
